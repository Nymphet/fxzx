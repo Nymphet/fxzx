{
 "cells": [
  {
   "cell_type": "code",
   "execution_count": 4,
   "metadata": {},
   "outputs": [],
   "source": [
    "from lxml import etree\n",
    "from io import StringIO, BytesIO"
   ]
  },
  {
   "cell_type": "code",
   "execution_count": 5,
   "metadata": {},
   "outputs": [],
   "source": [
    "with open('exercies_4_t.html', 'r', encoding='utf-8') as f:\n",
    "    broken_html = f.read()\n",
    "\n",
    "html = etree.HTML(broken_html)\n",
    "# result = etree.tostring(html, pretty_print=True, method=\"html\")\n",
    "# print(result)"
   ]
  },
  {
   "cell_type": "code",
   "execution_count": 10,
   "metadata": {},
   "outputs": [
    {
     "name": "stdout",
     "output_type": "stream",
     "text": [
      "0\n",
      "正确答案：D　　用户选择：\n",
      "正确答案：B　　用户选择：\n",
      "正确答案：A　　用户选择：\n",
      "正确答案：A　　用户选择：\n",
      "正确答案：D　　用户选择：\n",
      "正确答案：ABC　　用户选择：\n",
      "正确答案：ABCD　　用户选择：\n",
      "正确答案：AB　　用户选择：\n",
      "正确答案：ABCD　　用户选择：\n",
      "正确答案：ABC　　用户选择：\n"
     ]
    }
   ],
   "source": [
    "r = html.xpath('//*/strong')\n",
    "\n",
    "for i in r:\n",
    "    print(i.text)"
   ]
  },
  {
   "cell_type": "code",
   "execution_count": 46,
   "metadata": {},
   "outputs": [
    {
     "name": "stdout",
     "output_type": "stream",
     "text": [
      "557629 ['b']\n",
      "557626 ['c']\n",
      "557628 ['d']\n",
      "557625 ['a']\n",
      "557627 ['c']\n",
      "557639 ['a', 'c', 'd', 'b']\n",
      "557636 ['a', 'b', 'c']\n",
      "557638 ['c', 'd', 'a', 'b']\n",
      "557635 ['c', 'a']\n",
      "557637 ['d', 'c', 'a', 'b']\n",
      "557649 ['0']\n",
      "557646 ['1']\n",
      "557648 ['0']\n",
      "557645 ['1']\n",
      "557647 ['1']\n"
     ]
    }
   ],
   "source": [
    "\n",
    "# 先空着提交一次，从 xhr 就可以找到答案\n",
    "ans = []\n",
    "ans += [{\"questionId\":\"557629\",\"score\":\"8.0\",\"answerNo\":\"B\"},{\"questionId\":\"557626\",\"score\":\"8.0\",\"answerNo\":\"D\"},{\"questionId\":\"557628\",\"score\":\"8.0\",\"answerNo\":\"A\"},{\"questionId\":\"557625\",\"score\":\"8.0\",\"answerNo\":\"B\"},{\"questionId\":\"557627\",\"score\":\"8.0\",\"answerNo\":\"D\"},{\"questionId\":\"557639\",\"score\":\"8.0\",\"answerNo\":\"ABCD\"},{\"questionId\":\"557636\",\"score\":\"8.0\",\"answerNo\":\"ABD\"},{\"questionId\":\"557638\",\"score\":\"8.0\",\"answerNo\":\"ABCD\"},{\"questionId\":\"557635\",\"score\":\"8.0\",\"answerNo\":\"AB\"},{\"questionId\":\"557637\",\"score\":\"8.0\",\"answerNo\":\"ABCD\"},{\"questionId\":\"557649\",\"score\":\"4.0\",\"answerNo\":\"0\"},{\"questionId\":\"557646\",\"score\":\"4.0\",\"answerNo\":\"1\"},{\"questionId\":\"557648\",\"score\":\"4.0\",\"answerNo\":\"0\"},{\"questionId\":\"557645\",\"score\":\"4.0\",\"answerNo\":\"1\"},{\"questionId\":\"557647\",\"score\":\"4.0\",\"answerNo\":\"1\"}]\n",
    "ans +=[{\"questionId\":\"557629\",\"score\":\"8.0\",\"answerNo\":\"B\"},{\"questionId\":\"557628\",\"score\":\"8.0\",\"answerNo\":\"A\"},{\"questionId\":\"557625\",\"score\":\"8.0\",\"answerNo\":\"B\"},{\"questionId\":\"557626\",\"score\":\"8.0\",\"answerNo\":\"D\"},{\"questionId\":\"557627\",\"score\":\"8.0\",\"answerNo\":\"D\"},{\"questionId\":\"557637\",\"score\":\"8.0\",\"answerNo\":\"ABCD\"},{\"questionId\":\"557636\",\"score\":\"8.0\",\"answerNo\":\"ABD\"},{\"questionId\":\"557633\",\"score\":\"8.0\",\"answerNo\":\"ABCD\"},{\"questionId\":\"557634\",\"score\":\"8.0\",\"answerNo\":\"ABC\"},{\"questionId\":\"557635\",\"score\":\"8.0\",\"answerNo\":\"AB\"},{\"questionId\":\"557646\",\"score\":\"4.0\",\"answerNo\":\"1\"},{\"questionId\":\"557645\",\"score\":\"4.0\",\"answerNo\":\"1\"},{\"questionId\":\"557642\",\"score\":\"4.0\",\"answerNo\":\"1\"},{\"questionId\":\"557643\",\"score\":\"4.0\",\"answerNo\":\"1\"},{\"questionId\":\"557644\",\"score\":\"4.0\",\"answerNo\":\"0\"}]\n",
    "ans += [{\"questionId\":\"557630\",\"score\":\"8.0\",\"answerNo\":\"C\"},{\"questionId\":\"557629\",\"score\":\"8.0\",\"answerNo\":\"B\"},{\"questionId\":\"557626\",\"score\":\"8.0\",\"answerNo\":\"D\"},{\"questionId\":\"557627\",\"score\":\"8.0\",\"answerNo\":\"D\"},{\"questionId\":\"557628\",\"score\":\"8.0\",\"answerNo\":\"A\"},{\"questionId\":\"557638\",\"score\":\"8.0\",\"answerNo\":\"ABCD\"},{\"questionId\":\"557637\",\"score\":\"8.0\",\"answerNo\":\"ABCD\"},{\"questionId\":\"557634\",\"score\":\"8.0\",\"answerNo\":\"ABC\"},{\"questionId\":\"557635\",\"score\":\"8.0\",\"answerNo\":\"AB\"},{\"questionId\":\"557636\",\"score\":\"8.0\",\"answerNo\":\"ABD\"},{\"questionId\":\"557646\",\"score\":\"4.0\",\"answerNo\":\"1\"},{\"questionId\":\"557645\",\"score\":\"4.0\",\"answerNo\":\"1\"},{\"questionId\":\"557642\",\"score\":\"4.0\",\"answerNo\":\"1\"},{\"questionId\":\"557643\",\"score\":\"4.0\",\"answerNo\":\"1\"},{\"questionId\":\"557644\",\"score\":\"4.0\",\"answerNo\":\"0\"}]\n",
    "ans += [{\"questionId\":\"557627\",\"score\":\"8.0\",\"answerNo\":\"D\"},{\"questionId\":\"557623\",\"score\":\"8.0\",\"answerNo\":\"D\"},{\"questionId\":\"557625\",\"score\":\"8.0\",\"answerNo\":\"B\"},{\"questionId\":\"557626\",\"score\":\"8.0\",\"answerNo\":\"D\"},{\"questionId\":\"557624\",\"score\":\"8.0\",\"answerNo\":\"C\"},{\"questionId\":\"557639\",\"score\":\"8.0\",\"answerNo\":\"ABCD\"},{\"questionId\":\"557635\",\"score\":\"8.0\",\"answerNo\":\"AB\"},{\"questionId\":\"557637\",\"score\":\"8.0\",\"answerNo\":\"ABCD\"},{\"questionId\":\"557638\",\"score\":\"8.0\",\"answerNo\":\"ABCD\"},{\"questionId\":\"557636\",\"score\":\"8.0\",\"answerNo\":\"ABD\"},{\"questionId\":\"557648\",\"score\":\"4.0\",\"answerNo\":\"0\"},{\"questionId\":\"557644\",\"score\":\"4.0\",\"answerNo\":\"0\"},{\"questionId\":\"557646\",\"score\":\"4.0\",\"answerNo\":\"1\"},{\"questionId\":\"557647\",\"score\":\"4.0\",\"answerNo\":\"1\"},{\"questionId\":\"557645\",\"score\":\"4.0\",\"answerNo\":\"1\"}]\n",
    "\n",
    "\n",
    "# 重新开始练习，从 xhr 就可以得到各个问题的排序\n",
    "perm = [{\"itemNo\":\"D,B,C,A\",\"questionId\":\"557629\",\"score\":\"8.0\",\"type\":\"1\"},{\"itemNo\":\"B,C,D,A\",\"questionId\":\"557626\",\"score\":\"8.0\",\"type\":\"1\"},{\"itemNo\":\"C,D,B,A\",\"questionId\":\"557628\",\"score\":\"8.0\",\"type\":\"1\"},{\"itemNo\":\"B,C,D,A\",\"questionId\":\"557625\",\"score\":\"8.0\",\"type\":\"1\"},{\"itemNo\":\"C,A,D,B\",\"questionId\":\"557627\",\"score\":\"8.0\",\"type\":\"1\"},{\"itemNo\":\"A,D,B,C\",\"questionId\":\"557639\",\"score\":\"8.0\",\"type\":\"2\"},{\"itemNo\":\"A,B,D,C\",\"questionId\":\"557636\",\"score\":\"8.0\",\"type\":\"2\"},{\"itemNo\":\"C,D,A,B\",\"questionId\":\"557638\",\"score\":\"8.0\",\"type\":\"2\"},{\"itemNo\":\"B,C,A,D\",\"questionId\":\"557635\",\"score\":\"8.0\",\"type\":\"2\"},{\"itemNo\":\"C,D,B,A\",\"questionId\":\"557637\",\"score\":\"8.0\",\"type\":\"2\"},{\"itemNo\":\"A\",\"questionId\":\"557649\",\"score\":\"4.0\",\"type\":\"3\"},{\"itemNo\":\"A\",\"questionId\":\"557646\",\"score\":\"4.0\",\"type\":\"3\"},{\"itemNo\":\"A\",\"questionId\":\"557648\",\"score\":\"4.0\",\"type\":\"3\"},{\"itemNo\":\"A\",\"questionId\":\"557645\",\"score\":\"4.0\",\"type\":\"3\"},{\"itemNo\":\"A\",\"questionId\":\"557647\",\"score\":\"4.0\",\"type\":\"3\"}]\n",
    "\n",
    "# 从下方的答题卡中提取每一题的顺序\n",
    "myhtml = '''\n",
    "<ul id=\"ulindex\"><li id=\"index_0\" value=\"557629\"><a id=\"img_1\" href=\"javascript:sps.changeWenTi(0)\">1</a></li><li id=\"index_1\" value=\"557626\"><a id=\"img_2\" href=\"javascript:sps.changeWenTi(1)\">2</a></li><li id=\"index_2\" value=\"557628\"><a id=\"img_3\" href=\"javascript:sps.changeWenTi(2)\">3</a></li><li id=\"index_3\" value=\"557625\"><a id=\"img_4\" href=\"javascript:sps.changeWenTi(3)\">4</a></li><li id=\"index_4\" value=\"557627\"><a id=\"img_5\" href=\"javascript:sps.changeWenTi(4)\">5</a></li><li id=\"index_5\" value=\"557639\"><a id=\"img_6\" href=\"javascript:sps.changeWenTi(5)\">6</a></li><li id=\"index_6\" value=\"557636\"><a id=\"img_7\" href=\"javascript:sps.changeWenTi(6)\">7</a></li><li id=\"index_7\" value=\"557638\"><a id=\"img_8\" href=\"javascript:sps.changeWenTi(7)\">8</a></li><li id=\"index_8\" value=\"557635\"><a id=\"img_9\" href=\"javascript:sps.changeWenTi(8)\">9</a></li><li id=\"index_9\" value=\"557637\"><a id=\"img_10\" href=\"javascript:sps.changeWenTi(9)\">10</a></li><li id=\"index_10\" value=\"557649\"><a id=\"img_11\" href=\"javascript:sps.changeWenTi(10)\">11</a></li><li id=\"index_11\" value=\"557646\"><a id=\"img_12\" href=\"javascript:sps.changeWenTi(11)\">12</a></li><li id=\"index_12\" value=\"557648\"><a id=\"img_13\" href=\"javascript:sps.changeWenTi(12)\">13</a></li><li id=\"index_13\" value=\"557645\"><a id=\"img_14\" href=\"javascript:sps.changeWenTi(13)\">14</a></li><li id=\"index_14\" value=\"557647\"><a id=\"img_15\" href=\"javascript:sps.changeWenTi(14)\">15</a></li></ul>'''\n",
    "html = etree.HTML(myhtml)\n",
    "seq = html.xpath('//*/li/@value')\n",
    "# print(seq)\n",
    "\n",
    "# 计算每个题的答案\n",
    "\n",
    "def find_answer(qid, ans):\n",
    "    nomatch_flag = True\n",
    "    for a in ans:\n",
    "        if a[\"questionId\"] == qid:\n",
    "            return [c for c in a[\"answerNo\"]]\n",
    "    if nomatch_flag:\n",
    "        print(\"No Match Find For \", qid)\n",
    "        return []\n",
    "\n",
    "aset = {}\n",
    "choice = ['a','b','c','d']\n",
    "for i in perm:\n",
    "    qid = i[\"questionId\"]\n",
    "    a = find_answer(qid, ans)\n",
    "    newa = []\n",
    "    if i[\"type\"] != \"3\":\n",
    "        for c in a:\n",
    "            n = i[\"itemNo\"].split(',').index(c)\n",
    "#             print(n)\n",
    "            newa.append(choice[n])\n",
    "    elif i[\"type\"] == \"3\":\n",
    "            newa = a.copy()\n",
    "    aset[qid] = newa\n",
    "\n",
    "# print(aset)\n",
    "\n",
    "for i in seq:\n",
    "    print(i, aset[str(i)])\n"
   ]
  },
  {
   "cell_type": "code",
   "execution_count": 35,
   "metadata": {},
   "outputs": [
    {
     "name": "stdout",
     "output_type": "stream",
     "text": [
      "557627\n",
      "557623\n",
      "557625\n",
      "557626\n",
      "557624\n",
      "557639\n",
      "557635\n",
      "557637\n",
      "557638\n",
      "557636\n",
      "557648\n",
      "557644\n",
      "557646\n",
      "557647\n",
      "557645\n"
     ]
    }
   ],
   "source": [
    "\n"
   ]
  },
  {
   "cell_type": "code",
   "execution_count": null,
   "metadata": {},
   "outputs": [],
   "source": []
  }
 ],
 "metadata": {
  "kernelspec": {
   "display_name": "Python 3",
   "language": "python",
   "name": "python3"
  },
  "language_info": {
   "codemirror_mode": {
    "name": "ipython",
    "version": 3
   },
   "file_extension": ".py",
   "mimetype": "text/x-python",
   "name": "python",
   "nbconvert_exporter": "python",
   "pygments_lexer": "ipython3",
   "version": "3.7.4"
  }
 },
 "nbformat": 4,
 "nbformat_minor": 2
}
